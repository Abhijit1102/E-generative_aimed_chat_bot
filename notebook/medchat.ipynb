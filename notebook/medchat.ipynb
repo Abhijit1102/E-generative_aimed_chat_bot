{
 "cells": [
  {
   "cell_type": "code",
   "execution_count": 1,
   "id": "23fc6235-2945-406e-83f4-6078370227b3",
   "metadata": {},
   "outputs": [],
   "source": [
    "from langchain import PromptTemplate\n",
    "from langchain.chains import LLMChain\n",
    "from langchain.embeddings import HuggingFaceEmbeddings\n",
    "from langchain.document_loaders import PyPDFLoader, DirectoryLoader\n",
    "from langchain.text_splitter import RecursiveCharacterTextSplitter\n",
    "from langchain.prompts import PromptTemplate\n",
    "from langchain.llms import CTransformers\n",
    "import chromadb"
   ]
  },
  {
   "cell_type": "code",
   "execution_count": 2,
   "id": "8a2c9347-3f38-4f32-8105-bd7d0d320458",
   "metadata": {},
   "outputs": [],
   "source": [
    "#Extract data from the PDF\n",
    "def load_pdf(data):\n",
    "    loader = DirectoryLoader(data,\n",
    "                    glob=\"*.pdf\",\n",
    "                    loader_cls=PyPDFLoader)\n",
    "    \n",
    "    documents = loader.load()\n",
    "\n",
    "    return documents"
   ]
  },
  {
   "cell_type": "code",
   "execution_count": 3,
   "id": "2aed219e-daa4-4efc-bd68-6f780d40a920",
   "metadata": {},
   "outputs": [],
   "source": [
    "extracted_data = load_pdf(\"data/\")"
   ]
  },
  {
   "cell_type": "code",
   "execution_count": 6,
   "id": "d9451123-a521-4dc1-a2b7-9050510d6619",
   "metadata": {},
   "outputs": [
    {
     "name": "stdout",
     "output_type": "stream",
     "text": [
      "OTHER\n",
      "“Bursitis.” HealthAnswers.com. 1998 <http://www.health\n",
      "answers.com>.\n",
      "Karen Ericson, RN\n",
      "Bypass surgery seeCoronary artery bypass\n",
      "graft surgery\n",
      "Byssinosis\n",
      "Definition\n",
      "Byssinosis is a chronic, asthma-like narrowing of the\n",
      "airways. Also called brown lung disease, byssinosis resultsfrom inhaling particles of cotton, flax, hemp, or jute.\n",
      "Description\n",
      "Although inhaling cotton dust was identified as a\n",
      "source of respiratory disease more than 300 years ago,byssinosis has been recognized as an occupational haz-ard for textile workers for less than 50 years. More than800,000 workers in the cotton, flax, and rope-makingindustries are exposed in the workplace to airborne parti-cles that can cause byssinosis. Only workers in mills thatmanufacture yarn, thread, or fabric have a significant riskof dying of this disease.\n",
      "In the United States, byssinosis is almost completely\n",
      "limited to workers who handle unprocessed cotton. Morethan 35,000 textile workers have been disabled by byssi-nosis and 183 died between 1979 and 1992. Most of thepeople whose deaths were due to byssinosis lived in thetextile-producing regions of North and South Carolina.\n",
      "Causes and symptoms\n",
      "Wheezing ,shortness of breath , and a feeling of\n",
      "tightness in the chest occur occasionally during the earlystages of the disease. Symptoms are usually more pro-nounced when returning to work after a weekend, holi-day, or vacation and subside as the worker becomes reac-customed to the environment.\n",
      "As many as 25% of workers with byssinosis have\n",
      "symptoms that continue or recur throughout the work-week. More severe breathing problems seem to resultboth from exposure to high levels of dust and fromlonger dust exposure. Workers who also smoke cigarettessuffer the most severe impairment.Diagnosis\n",
      "Tests that detect decreasing lung capacity during the\n",
      "workday are used to diagnose byssinosis. Obstructivepatterns are likely in patients who have had recurrentsymptoms for more than 10 years.\n",
      "Treatment\n",
      "Therapy for early-stage byssinosis focuses on\n",
      "reversing airway narrowing. Antihistamines may be pre-\n",
      "scribed to reduce tightness in the chest. Bronchodilators\n",
      "(drugs used to relax breathing passages and improve airflow) may be used with an inhaler or taken in tablet form.Reducing exposure is essential. Any worker who hassymptoms of byssinosis or who has trouble breathingshould transfer to a less-contaminated area.\n",
      "Prognosis\n",
      "Smoking , impaired lung function, and a history of\n",
      "respiratory allergy increase a textile worker’s risk of devel-oping byssinosis. Prolonged exposure makes patientswheeze more often and can cause chronic bronchitis . It\n",
      "does not lead to permanently disabling lung disease.\n",
      "Prevention\n",
      "Eliminating exposure to textile dust is the surest way\n",
      "to prevent byssinosis. Using exhaust hoods, improvingventilation, and employing wetting procedures are verysuccessful methods of controlling dust levels to preventbyssinosis. Protective equipment required during certainprocedures also prevents exposure to levels of contami-nation that exceed the current United States standard forcotton dust exposure.\n",
      "Resources\n",
      "BOOKS\n",
      "Harrison’s Principles of Internal Medicine. Ed. Anthony S.\n",
      "Fauci, et al. New York: McGraw-Hill, 1997.\n",
      "Current Medical Diagnosis and Treatment, 1996. 35th ed. Ed.\n",
      "Stephen McPhee, et al. Stamford: Appleton & Lange,1995.\n",
      "GALE ENCYCLOPEDIA OF MEDICINE 2 622ByssinosisKEY TERMS\n",
      "Wheeze —A whistling sound made by the flow of\n",
      "high-velocity air through narrowed airways.Wheezing is a symptom of several respiratory dis-eases including byssinosis and asthma.GEM -0433 to 0624 - B  10/22/03 6:09 PM  Page 622\n"
     ]
    }
   ],
   "source": [
    "print(extracted_data[-2].page_content)"
   ]
  },
  {
   "cell_type": "code",
   "execution_count": 7,
   "id": "77d69b37-695a-400d-8bd9-6df43e28f8f5",
   "metadata": {},
   "outputs": [
    {
     "data": {
      "text/plain": [
       "637"
      ]
     },
     "execution_count": 7,
     "metadata": {},
     "output_type": "execute_result"
    }
   ],
   "source": [
    "len(extracted_data)"
   ]
  },
  {
   "cell_type": "code",
   "execution_count": 5,
   "id": "cf3e9401-b564-4703-b939-1c1aebd3f56f",
   "metadata": {},
   "outputs": [],
   "source": [
    "#Create text chunks\n",
    "def text_split(extracted_data):\n",
    "    text_splitter = RecursiveCharacterTextSplitter(chunk_size = 500, chunk_overlap = 20)\n",
    "    text_chunks = text_splitter.split_documents(extracted_data)\n",
    "\n",
    "    return text_chunks"
   ]
  },
  {
   "cell_type": "code",
   "execution_count": 6,
   "id": "19a78448-1fbb-490c-850a-1da3cf2ee6bd",
   "metadata": {},
   "outputs": [
    {
     "name": "stdout",
     "output_type": "stream",
     "text": [
      "length of my chunk: 7020\n"
     ]
    }
   ],
   "source": [
    "text_chunks = text_split(extracted_data)\n",
    "print(\"length of my chunk:\", len(text_chunks))"
   ]
  },
  {
   "cell_type": "code",
   "execution_count": 8,
   "id": "a4caeca6-7339-44dc-99bd-6bda5b67699a",
   "metadata": {},
   "outputs": [],
   "source": [
    "#download embedding model\n",
    "def download_hugging_face_embeddings():\n",
    "    embeddings = HuggingFaceEmbeddings(model_name=\"sentence-transformers/all-MiniLM-L6-v2\")\n",
    "    return embeddings"
   ]
  },
  {
   "cell_type": "code",
   "execution_count": 9,
   "id": "870cddd5-ad75-444e-bb09-03ea596f2b31",
   "metadata": {},
   "outputs": [
    {
     "name": "stderr",
     "output_type": "stream",
     "text": [
      "C:\\Users\\Lenovo\\mambaforge\\lib\\site-packages\\tqdm\\auto.py:21: TqdmWarning: IProgress not found. Please update jupyter and ipywidgets. See https://ipywidgets.readthedocs.io/en/stable/user_install.html\n",
      "  from .autonotebook import tqdm as notebook_tqdm\n"
     ]
    }
   ],
   "source": [
    "embeddings = download_hugging_face_embeddings()"
   ]
  },
  {
   "cell_type": "code",
   "execution_count": 10,
   "id": "54bc0cd9-924f-4dac-b65b-ead4f555f9db",
   "metadata": {},
   "outputs": [
    {
     "data": {
      "text/plain": [
       "HuggingFaceEmbeddings(client=SentenceTransformer(\n",
       "  (0): Transformer({'max_seq_length': 256, 'do_lower_case': False}) with Transformer model: BertModel \n",
       "  (1): Pooling({'word_embedding_dimension': 384, 'pooling_mode_cls_token': False, 'pooling_mode_mean_tokens': True, 'pooling_mode_max_tokens': False, 'pooling_mode_mean_sqrt_len_tokens': False})\n",
       "  (2): Normalize()\n",
       "), model_name='sentence-transformers/all-MiniLM-L6-v2', cache_folder=None, model_kwargs={}, encode_kwargs={})"
      ]
     },
     "execution_count": 10,
     "metadata": {},
     "output_type": "execute_result"
    }
   ],
   "source": [
    "embeddings"
   ]
  },
  {
   "cell_type": "code",
   "execution_count": 10,
   "id": "94b1527f-3188-4798-b02e-25448fce18cc",
   "metadata": {},
   "outputs": [],
   "source": [
    "#text_chunks[1].metadata"
   ]
  },
  {
   "cell_type": "code",
   "execution_count": 10,
   "id": "acccdcb2-488c-43c7-bdce-754ff7566b5d",
   "metadata": {},
   "outputs": [
    {
     "data": {
      "text/plain": [
       "'The Gale Encyclopedia of Medicine 2 (GEM2) is a\\none-stop source for medical information on nearly 1,700common medical disorders, conditions, tests, and treat-ments, including high-profile diseases such as AIDS,Alzheimer’s disease, cancer, and heart attack. This ency-clopedia avoids medical jargon and uses language thatlaypersons can understand, while still providing thor-ough coverage of each topic. The Gale Encyclopedia of\\nMedicine 2 fills a gap between basic consumer health'"
      ]
     },
     "execution_count": 10,
     "metadata": {},
     "output_type": "execute_result"
    }
   ],
   "source": [
    "text_chunks[20].page_content"
   ]
  },
  {
   "cell_type": "code",
   "execution_count": 23,
   "id": "1f3f0c19-f9f4-4b75-82df-910e542fa6b8",
   "metadata": {},
   "outputs": [
    {
     "name": "stdout",
     "output_type": "stream",
     "text": [
      "Vectors saved to my_list.pkl\n"
     ]
    }
   ],
   "source": [
    "import pickle\n",
    "\n",
    "# Your vector creation logic\n",
    "vectors = []\n",
    "for i in range(len(text_chunks)):\n",
    "    text = text_chunks[i].page_content\n",
    "    values = embeddings.embed_query(text)\n",
    "    metadata = text_chunks[i].metadata\n",
    "    vectors.append({\"id\": str(f\"vec{i}\"), \"values\": values, \"text\": text, \"metadata\": metadata})\n",
    "\n",
    "# Save the vectors list as a binary pickle file\n",
    "file_path = 'my_list.pkl'\n",
    "with open(file_path, 'wb') as file:\n",
    "    pickle.dump(vectors, file)\n",
    "\n",
    "print(f\"Vectors saved to {file_path}\")\n"
   ]
  },
  {
   "cell_type": "code",
   "execution_count": 11,
   "id": "6751833e-7139-4394-846b-4cb6f5f205c1",
   "metadata": {},
   "outputs": [],
   "source": [
    "import pickle\n",
    "\n",
    "# Load vectors from the binary pickle file\n",
    "file_path = 'my_list.pkl'\n",
    "with open(file_path, 'rb') as file:\n",
    "    vectors = pickle.load(file)\n"
   ]
  },
  {
   "cell_type": "code",
   "execution_count": 2,
   "id": "e0361a03-9295-4286-9a2b-b70c14287e87",
   "metadata": {},
   "outputs": [],
   "source": [
    "#index.upsert(\n",
    " #   vectors=vectors\n",
    "#)"
   ]
  },
  {
   "cell_type": "markdown",
   "id": "bb5e6b98-d577-4696-a260-80da7847eb0e",
   "metadata": {},
   "source": [
    "##############################################################################################################################"
   ]
  },
  {
   "cell_type": "markdown",
   "id": "e3b8daf1-9c6d-410b-8667-45f632f934ae",
   "metadata": {},
   "source": [
    "## ChromeBD"
   ]
  },
  {
   "cell_type": "code",
   "execution_count": 12,
   "id": "9e121784-e749-4e38-850b-bd6f0140517d",
   "metadata": {},
   "outputs": [],
   "source": [
    "import chromadb\n",
    "client = chromadb.PersistentClient(path=\"data/\")"
   ]
  },
  {
   "cell_type": "code",
   "execution_count": 13,
   "id": "6ea538a0-ef29-4b02-b0d5-d351dde7b5bc",
   "metadata": {},
   "outputs": [
    {
     "data": {
      "text/plain": [
       "1708435068859383000"
      ]
     },
     "execution_count": 13,
     "metadata": {},
     "output_type": "execute_result"
    }
   ],
   "source": [
    "client.heartbeat()"
   ]
  },
  {
   "cell_type": "code",
   "execution_count": 8,
   "id": "b4e4ff19-1dc8-4eb3-8950-05bb51772975",
   "metadata": {},
   "outputs": [],
   "source": [
    "#client.delete_collection(\"medchat\")"
   ]
  },
  {
   "cell_type": "code",
   "execution_count": 25,
   "id": "0b33c5d7-cc79-48f4-8700-bb01c8cf1a18",
   "metadata": {},
   "outputs": [
    {
     "data": {
      "text/plain": [
       "[Collection(name=medchat)]"
      ]
     },
     "execution_count": 25,
     "metadata": {},
     "output_type": "execute_result"
    }
   ],
   "source": [
    "client.list_collections()"
   ]
  },
  {
   "cell_type": "code",
   "execution_count": 33,
   "id": "6b372bd3-79a1-4b3b-ae58-addc32a7e1f9",
   "metadata": {},
   "outputs": [
    {
     "name": "stdout",
     "output_type": "stream",
     "text": [
      "medchat\n"
     ]
    }
   ],
   "source": [
    "collection_names = [collection.name for collection in collections]\n",
    "for collection_name in collection_names:\n",
    "    print(collection_name)"
   ]
  },
  {
   "cell_type": "code",
   "execution_count": null,
   "id": "99662b96-94f6-41b3-ab86-f54cfd43e3a5",
   "metadata": {},
   "outputs": [],
   "source": []
  },
  {
   "cell_type": "code",
   "execution_count": 24,
   "id": "fb2bfcb9-33b1-4173-87f7-b22b2bf894f3",
   "metadata": {},
   "outputs": [],
   "source": [
    "collection = client.create_collection(name=\"medchat\")"
   ]
  },
  {
   "cell_type": "code",
   "execution_count": 25,
   "id": "f8e971c3-88a4-493d-9037-c39b6d21aa39",
   "metadata": {},
   "outputs": [],
   "source": [
    "vector_values = [vector[\"values\"] for vector in vectors]\n",
    "vector_texts = [vector[\"text\"] for vector in vectors]\n",
    "vector_ids = [vector[\"id\"] for vector in vectors]\n",
    "vector_metadata = [vector[\"metadata\"] for vector in vectors]\n",
    "\n",
    "# Add vectors to the collection\n",
    "collection.add(\n",
    "    embeddings=vector_values,\n",
    "    documents=vector_texts,\n",
    "    metadatas=vector_metadata,\n",
    "    ids=vector_ids\n",
    ")"
   ]
  },
  {
   "cell_type": "code",
   "execution_count": 9,
   "id": "acfb0716-68d6-4894-922e-46a94fa741a8",
   "metadata": {},
   "outputs": [],
   "source": [
    "collection = client.get_collection(name=\"medchat\")"
   ]
  },
  {
   "cell_type": "code",
   "execution_count": 10,
   "id": "45ef97bf-fa24-4c87-9f5b-8d9076aa0a25",
   "metadata": {},
   "outputs": [
    {
     "name": "stdout",
     "output_type": "stream",
     "text": [
      "['Prognosis\\nA good prognosis is dependent on the ability to treat', 'Prognosis\\nA-T is a fatal condition. Children with A-T become\\nphysically disabled by their early teens and typically dieby their early 20s, usually from the associated blood can-cers and malignancies. In very rare cases, individualswith A-T may experience slower progression and aslightly longer life span, surviving into their 30s. A-Tcarriers have a five-fold higher risk than non-carriers ofdeveloping certain cancers, especially breast cancer .', 'disease at the time of presentation, the better the long-\\nterm outcome after treatment, or prognosis, becomes.\\nWhen a patient has physical signs or symptoms\\nA very common finding that leads to diagnosis is the']\n"
     ]
    }
   ],
   "source": [
    "query = \"What are Prognosis\"\n",
    "result = collection.query(\n",
    "    query_embeddings=embeddings.embed_query(query),\n",
    "    n_results=3\n",
    ")\n",
    "context = result[\"documents\"][0]\n",
    "print(context)"
   ]
  },
  {
   "cell_type": "code",
   "execution_count": 32,
   "id": "83cca345-8c8f-46ef-873e-caf98573ecc3",
   "metadata": {},
   "outputs": [
    {
     "name": "stdout",
     "output_type": "stream",
     "text": [
      "Prognosis\n",
      "A good prognosis is dependent on the ability to treat\n",
      "Prognosis\n",
      "A-T is a fatal condition. Children with A-T become\n",
      "physically disabled by their early teens and typically dieby their early 20s, usually from the associated blood can-cers and malignancies. In very rare cases, individualswith A-T may experience slower progression and aslightly longer life span, surviving into their 30s. A-Tcarriers have a five-fold higher risk than non-carriers ofdeveloping certain cancers, especially breast cancer .\n"
     ]
    }
   ],
   "source": [
    "for i in range(len(result[\"documents\"][0])):\n",
    "   print(result[\"documents\"][0][i])"
   ]
  },
  {
   "cell_type": "code",
   "execution_count": 11,
   "id": "acf14df2-4451-481b-9763-bc3acb87c0d3",
   "metadata": {},
   "outputs": [],
   "source": [
    "prompt_template=\"\"\"\n",
    "Use the following pieces of information to answer the user's question.\n",
    "If you don't know the answer, just say that you don't know, don't try to make up an answer.\n",
    "\n",
    "Context: {context}\n",
    "Question: {question}\n",
    "\n",
    "Only return the helpful answer below and nothing else.\n",
    "Helpful answer:\n",
    "\"\"\""
   ]
  },
  {
   "cell_type": "code",
   "execution_count": 13,
   "id": "329f9bec-997d-4e33-8752-193fc9c0b323",
   "metadata": {},
   "outputs": [],
   "source": [
    "PROMPT=PromptTemplate(template=prompt_template, input_variables=[\"context\", \"question\"])"
   ]
  },
  {
   "cell_type": "code",
   "execution_count": 12,
   "id": "d9cbef97-902c-4a70-bc14-ca5f8b9868d3",
   "metadata": {},
   "outputs": [],
   "source": [
    "llm=CTransformers(model=r\"E:\\generative_ai\\4. med_chat_bot\\models\\llama-2-7b-chat.ggmlv3.q4_0.bin\",\n",
    "                  model_type=\"llama\",\n",
    "                  config={'max_new_tokens':512,\n",
    "                          'temperature':0.5})"
   ]
  },
  {
   "cell_type": "code",
   "execution_count": 14,
   "id": "3c74b232-6441-4f3e-838f-5b788e412081",
   "metadata": {},
   "outputs": [],
   "source": [
    "def embedding_query(query):\n",
    "    result = collection.query(\n",
    "        query_embeddings=embeddings.embed_query(query),\n",
    "        n_results=3\n",
    "    )\n",
    "    context = result[\"documents\"][0]\n",
    "    return context"
   ]
  },
  {
   "cell_type": "code",
   "execution_count": 15,
   "id": "39db68ea-92be-4975-89dc-e4619ebaa88c",
   "metadata": {},
   "outputs": [],
   "source": [
    "context = embedding_query(query)"
   ]
  },
  {
   "cell_type": "code",
   "execution_count": 16,
   "id": "acb9bc05-1ba4-4cd5-9f42-720edb6abf88",
   "metadata": {},
   "outputs": [
    {
     "data": {
      "text/plain": [
       "['Prognosis\\nA good prognosis is dependent on the ability to treat',\n",
       " 'Prognosis\\nA-T is a fatal condition. Children with A-T become\\nphysically disabled by their early teens and typically dieby their early 20s, usually from the associated blood can-cers and malignancies. In very rare cases, individualswith A-T may experience slower progression and aslightly longer life span, surviving into their 30s. A-Tcarriers have a five-fold higher risk than non-carriers ofdeveloping certain cancers, especially breast cancer .',\n",
       " 'disease at the time of presentation, the better the long-\\nterm outcome after treatment, or prognosis, becomes.\\nWhen a patient has physical signs or symptoms\\nA very common finding that leads to diagnosis is the']"
      ]
     },
     "execution_count": 16,
     "metadata": {},
     "output_type": "execute_result"
    }
   ],
   "source": [
    "context"
   ]
  },
  {
   "cell_type": "code",
   "execution_count": 17,
   "id": "d8ab8ca2-8b5a-4a40-b5c1-b4d7cfa855d7",
   "metadata": {},
   "outputs": [],
   "source": [
    "llm_chian = LLMChain(prompt=PROMPT, llm=llm)"
   ]
  },
  {
   "cell_type": "code",
   "execution_count": null,
   "id": "57a42630-7ea5-482f-ad9a-ee468deac5ca",
   "metadata": {},
   "outputs": [
    {
     "name": "stdin",
     "output_type": "stream",
     "text": [
      "Input Prompt: What are Prognosis\n"
     ]
    },
    {
     "name": "stdout",
     "output_type": "stream",
     "text": [
      "Response :  The prognosis for individuals with A-T depends on the severity of the condition at the time of presentation. Those who experience slower progression and have a later age of onset tend to have a better long-term outcome after treatment, or prognosis. However, in general, children with A-T become physically disabled by their early teens and typically die by their early 20s, usually from the associated blood cancers and malignancies. A-T carriers have a five-fold higher risk than non-carriers of developing certain cancers, especially breast cancer.\n"
     ]
    },
    {
     "name": "stdin",
     "output_type": "stream",
     "text": [
      "Input Prompt: 1\n"
     ]
    }
   ],
   "source": [
    "llm_chain = LLMChain(prompt=PROMPT, llm=llm)\n",
    "\n",
    "while True:\n",
    "    user_input = input(\"Input Prompt:\")\n",
    "    \n",
    "    # Assuming you want to use user_input as the question\n",
    "    question = user_input\n",
    "    \n",
    "    # Retrieve context based on user input\n",
    "    context = embedding_query(question)\n",
    "    \n",
    "    # Make sure to use the correct keys for the input dictionary\n",
    "    inputs = {\"context\": context, \"question\": question}\n",
    "    \n",
    "    result = llm_chain(inputs)\n",
    "    print(\"Response : \", result[\"text\"])"
   ]
  },
  {
   "cell_type": "code",
   "execution_count": 47,
   "id": "615ca378-e7da-478b-9eb8-7fde24a084ab",
   "metadata": {},
   "outputs": [
    {
     "data": {
      "text/plain": [
       "{'context': ['When thisoccurs, an allergy develops against the offending sub-stance (an allergen.)',\n",
       "  'the itchy, scratchy nose, eyes, and throat common inallergic rhinitis .\\nThe particular allergens to which a person is sensi-',\n",
       "  \"GALE ENCYCLOPEDIA OF MEDICINE 2 117Allergies\\nAllergic rhinitis is commonly triggered by\\nexposure to household dust, animal fur,or pollen. The foreign substance thattriggers an allergic reaction is calledan allergen.\\nThe presence of an allergen causes the\\nbody's lymphocytes to begin producingIgE antibodies. The lymphocytes of an allergy sufferer produce an unusuallylarge amount of IgE.\\nIgE molecules attach to mast\\ncells, which contain histamine.HistaminePollen grains\\nLymphocyte\\nFIRST EXPOSURE\"],\n",
       " 'question': 'allergy',\n",
       " 'text': 'It is not possible to determine the specific allergen that caused an allergy without more information. The development of an allergy is a complex process involving multiple factors, including genetics, environment, and exposure to potential allergens. Even if you know the exact allergen, it may not be possible to identify it without further testing or medical evaluation. If you suspect you have an allergy, it is important to consult with a healthcare professional for proper diagnosis and treatment.'}"
      ]
     },
     "execution_count": 47,
     "metadata": {},
     "output_type": "execute_result"
    }
   ],
   "source": [
    "result"
   ]
  },
  {
   "cell_type": "code",
   "execution_count": null,
   "id": "a5eb0f71-3247-4df4-98b2-b67ca1a6acbf",
   "metadata": {},
   "outputs": [],
   "source": []
  },
  {
   "cell_type": "code",
   "execution_count": null,
   "id": "dd92a95c-13fc-4c98-973d-b81cab5c1939",
   "metadata": {},
   "outputs": [],
   "source": []
  },
  {
   "cell_type": "code",
   "execution_count": null,
   "id": "3aeb4e27-ff37-4968-aeab-d0499ecbf648",
   "metadata": {},
   "outputs": [],
   "source": []
  },
  {
   "cell_type": "code",
   "execution_count": null,
   "id": "c52cf584-f213-4238-8357-021819dd3384",
   "metadata": {},
   "outputs": [],
   "source": []
  },
  {
   "cell_type": "code",
   "execution_count": null,
   "id": "e332b3b6-2073-49ab-829f-5253d4c953e0",
   "metadata": {},
   "outputs": [],
   "source": []
  }
 ],
 "metadata": {
  "kernelspec": {
   "display_name": "Python 3 (ipykernel)",
   "language": "python",
   "name": "python3"
  },
  "language_info": {
   "codemirror_mode": {
    "name": "ipython",
    "version": 3
   },
   "file_extension": ".py",
   "mimetype": "text/x-python",
   "name": "python",
   "nbconvert_exporter": "python",
   "pygments_lexer": "ipython3",
   "version": "3.10.12"
  }
 },
 "nbformat": 4,
 "nbformat_minor": 5
}
